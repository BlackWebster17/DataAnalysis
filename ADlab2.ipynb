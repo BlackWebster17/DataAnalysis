{
 "cells": [
  {
   "cell_type": "markdown",
   "metadata": {},
   "source": [
    "Створити env в якому будуть встановлені всі необхідні бібліотеки та\n",
    "налаштування для данної лабораторної роботи"
   ]
  },
  {
   "cell_type": "code",
   "execution_count": 1,
   "metadata": {},
   "outputs": [],
   "source": [
    "import pandas as pd\n",
    "import urllib.request\n",
    "from datetime import datetime\n",
    "import os \n",
    "from datetime import datetime, date\n",
    "import csv\n",
    "from os import listdir"
   ]
  },
  {
   "cell_type": "markdown",
   "metadata": {},
   "source": [
    "Для кожної із адміністративних одиниць України завантажити тестові\n",
    "структуровані файли, що містять значення VHI-індексу. Ця процедура\n",
    "має бути автоматизована, параметром процедури має бути індекс\n",
    "(номер) області. При зберіганні файлу до його імені потрібно додати\n",
    "дату та час завантаження;"
   ]
  },
  {
   "cell_type": "markdown",
   "metadata": {},
   "source": [
    "Реалізувати процедуру, яка змінить індекси областей, які використані\n",
    "на порталі NOAA на наступні:"
   ]
  },
  {
   "cell_type": "code",
   "execution_count": 2,
   "metadata": {},
   "outputs": [],
   "source": [
    "directory = 'ADlab2'\n",
    "base_url = \"https://www.star.nesdis.noaa.gov/smcd/emb/vci/VH/get_TS_admin.php?country=UKR&provinceID={}&year1=1981&year2=2024&type=Mean\"\n",
    "indexes = {1: 22, 2: 24, 3: 23, 4: 25, 5: 3, 6: 4, 7: 8, 8: 19, 9: 20, 10: 21, 11: 9, 13: 10, 14: 11, 15: 12, 16: 13, 17: 14, 18: 15, 19: 16, 21: 17, 22: 18, 23: 6, 24: 1, 25: 2, 26: 7, 27: 5}\n",
    "\n",
    "if not os.path.exists(directory):\n",
    "    os.makedirs(directory)"
   ]
  },
  {
   "cell_type": "markdown",
   "metadata": {},
   "source": [
    "Зчитати завантажені текстові файли у фрейм (детальніше про роботу\n",
    "із фреймами буде розказано у подальших лабораторних роботах).\n",
    "Імена стовбців фрейму мають бути змістовними та легкими для\n",
    "сприйняття (не повинно бути спеціалізованих символів, пробілів\n",
    "тощо). Ця задача має бути реалізована у вигляді окремої процедури,\n",
    "яка на вхід приймає шлях до директорії, в якій зберігаються файли;"
   ]
  },
  {
   "cell_type": "code",
   "execution_count": 3,
   "metadata": {},
   "outputs": [
    {
     "name": "stdout",
     "output_type": "stream",
     "text": [
      "Файл з індексом 22 вже існує\n",
      "Файл з індексом 24 вже існує\n",
      "Файл з індексом 23 вже існує\n",
      "Файл з індексом 25 вже існує\n",
      "Файл з індексом 3 вже існує\n",
      "Файл з індексом 4 вже існує\n",
      "Файл з індексом 8 вже існує\n",
      "Файл з індексом 19 вже існує\n",
      "Файл з індексом 20 вже існує\n",
      "Файл з індексом 21 вже існує\n",
      "Файл з індексом 9 вже існує\n",
      "Файл з індексом 10 вже існує\n",
      "Файл з індексом 11 вже існує\n",
      "Файл з індексом 12 вже існує\n",
      "Файл з індексом 13 вже існує\n",
      "Файл з індексом 14 вже існує\n",
      "Файл з індексом 15 вже існує\n",
      "Файл з індексом 16 вже існує\n",
      "Файл з індексом 17 вже існує\n",
      "Файл з індексом 18 вже існує\n",
      "Файл з індексом 6 вже існує\n",
      "Файл з індексом 1 вже існує\n",
      "Файл з індексом 2 вже існує\n",
      "Файл з індексом 7 вже існує\n",
      "Файл з індексом 5 вже існує\n",
      "Успішно виконано\n"
     ]
    }
   ],
   "source": [
    "for province_id, index in indexes.items():\n",
    "    existing_file = False\n",
    "    start_of_the_filename = 'NOAA_' + str(index) + '_'\n",
    "    for file_name in os.listdir(directory):\n",
    "        if file_name.startswith(start_of_the_filename):\n",
    "            print('Файл з індексом ' + str(index) + ' вже існує')\n",
    "            existing_file = True\n",
    "            break\n",
    "    if not existing_file:\n",
    "        url = base_url.format(province_id)\n",
    "        wp = urllib.request.urlopen(url)\n",
    "        text = wp.read()\n",
    "        now = datetime.now()\n",
    "        date_and_time = now.strftime(\"%d-%m-%Y_%H-%M-%S\")\n",
    "        file_path = os.path.join(directory, 'NOAA_' + str(index) + '_' + date_and_time + '.csv')\n",
    "        with open(file_path, 'wb') as out:\n",
    "            out.write(text)\n",
    "        print('Файл ' + file_path + ' був створений')\n",
    "print('Успішно виконано')"
   ]
  },
  {
   "cell_type": "code",
   "execution_count": 4,
   "metadata": {},
   "outputs": [
    {
     "name": "stderr",
     "output_type": "stream",
     "text": [
      "C:\\Users\\fyalb\\AppData\\Local\\Temp\\ipykernel_10488\\652736387.py:15: FutureWarning: The behavior of DataFrame concatenation with empty or all-NA entries is deprecated. In a future version, this will no longer exclude empty or all-NA columns when determining the result dtypes. To retain the old behavior, exclude the relevant entries before the concat operation.\n",
      "  combined_data = pd.concat([combined_data, df], ignore_index=True)\n"
     ]
    },
    {
     "name": "stdout",
     "output_type": "stream",
     "text": [
      "       Year  Week    SMN     SMT    VCI    TCI    VHI Area\n",
      "0      1982   1.0  0.045  261.12  36.68  41.79  39.23   10\n",
      "1      1982   2.0  0.041  262.61  36.46  35.10  35.78   10\n",
      "2      1982   3.0  0.041  263.82  36.49  30.79  33.64   10\n",
      "3      1982   4.0  0.038  264.71  33.46  28.66  31.06   10\n",
      "4      1982   5.0  0.034  264.76  29.66  30.50  30.08   10\n",
      "...     ...   ...    ...     ...    ...    ...    ...  ...\n",
      "53595  2024   6.0  0.087  265.01  55.93  37.82  46.87    9\n",
      "53596  2024   7.0  0.104  268.59  60.95  29.91  45.40    9\n",
      "53597  2024   8.0  0.121  271.86  64.85  23.64  44.21    9\n",
      "53598  2024   9.0  0.138  274.65  68.03  20.12  44.05    9\n",
      "53599  2024  10.0  0.150  276.27  67.09  23.10  45.07    9\n",
      "\n",
      "[53600 rows x 8 columns]\n"
     ]
    }
   ],
   "source": [
    "def combine_csv_files(data_dir, output_path):\n",
    "    column_names = [\"Year\", \"Week\", \"SMN\", \"SMT\", \"VCI\", \"TCI\", \"VHI\", \"Area\"]\n",
    "    combined_data = pd.DataFrame(columns=column_names)\n",
    "    filenames = os.listdir(data_dir)\n",
    "\n",
    "    for filename in filenames:\n",
    "        if not filename.endswith(\".csv\"):\n",
    "            continue\n",
    "        file_path = os.path.join(data_dir, filename)\n",
    "        df = pd.read_csv(file_path, skiprows=2, names=column_names)\n",
    "        df[\"Year\"] = df[\"Year\"].str.replace('<tt><pre>', '').str.replace('</pre></tt>', '')\n",
    "        region_code = int(filename.split('_')[1])\n",
    "        df[\"Area\"] = region_code\n",
    "        df = df.drop(df.loc[df['VHI'] == -1].index).dropna()\n",
    "        combined_data = pd.concat([combined_data, df], ignore_index=True)\n",
    "    combined_data.to_csv(output_path, index=False)\n",
    "    print(combined_data)\n",
    "\n",
    "data_dir = \"ADlab2\"\n",
    "output_path = \"EveryData.csv\"\n",
    "\n",
    "combine_csv_files(data_dir, output_path)"
   ]
  },
  {
   "cell_type": "markdown",
   "metadata": {},
   "source": [
    "Реалізувати процедури для формування вибірок наступного виду\n",
    "(включаючи елементи аналізу):"
   ]
  },
  {
   "cell_type": "markdown",
   "metadata": {},
   "source": [
    "o Ряд VHI для області за вказаний рік, пошук екстремумів (min та\n",
    "max);"
   ]
  },
  {
   "cell_type": "code",
   "execution_count": 5,
   "metadata": {},
   "outputs": [
    {
     "name": "stdout",
     "output_type": "stream",
     "text": [
      "For 1991 and province 1:\n",
      "Min VHI: 29.06\n",
      "Max VHI: 73.29\n",
      "VHI values for province 1 in 1991: [33.17, 36.01, 38.33, 39.89, 38.53, 36.72, 35.6, 35.59, 36.77, 35.44, 31.98, 31.1, 29.06, 29.11, 34.67, 39.71, 46.18, 50.21, 52.39, 54.81, 56.4, 57.68, 59.95, 63.62, 67.1, 68.82, 71.57, 73.29, 72.34, 71.94, 71.29, 70.75, 69.76, 68.99, 65.85, 62.26, 60.28, 56.41, 52.48, 50.49, 48.03, 49.48, 52.52, 47.84, 42.39, 38.64, 38.21, 38.69, 36.86, 36.32, 34.72, 31.5]\n"
     ]
    }
   ],
   "source": [
    "def calculate_vhi_extremes_for_province(file_path, year, province_id):\n",
    "    dataframe = pd.read_csv(file_path)\n",
    "    province_data = dataframe[(dataframe['Area'] == province_id) & (dataframe['Year'] == year)]['VHI']\n",
    "    min_vhi = province_data.min()\n",
    "    max_vhi = province_data.max()\n",
    "    vhi_values = province_data.tolist()  \n",
    "    print(f'For {year} and province {province_id}:')\n",
    "    print(f'Min VHI: {min_vhi}')\n",
    "    print(f'Max VHI: {max_vhi}')\n",
    "    print(f'VHI values for province {province_id} in {year}: {vhi_values}')\n",
    "\n",
    "file_path = \"EveryData.csv\"\n",
    "calculate_vhi_extremes_for_province(file_path, 1991, 1)"
   ]
  },
  {
   "cell_type": "markdown",
   "metadata": {},
   "source": [
    "o Ряд VHI за вказаний діапазон років для вказаних областей;\n",
    "виявити роки, протягом яких екстремальні посухи торкнулися\n",
    "більше вказаного відсотка областей по Україні (20% областей - 5 областей з 25);\n"
   ]
  },
  {
   "cell_type": "code",
   "execution_count": 14,
   "metadata": {},
   "outputs": [
    {
     "name": "stdout",
     "output_type": "stream",
     "text": [
      "Для області 4 в період з 2022 по 2023 ряд VHI: [54.38 54.58 53.87 53.5  50.97 47.13 44.29 42.71 41.51 41.7  42.88 42.69\n",
      " 42.79 41.77 41.8  44.06 48.61 54.04 58.55 61.33 61.99 61.01 59.2  55.65\n",
      " 51.89 49.52 48.28 48.98 49.92 49.25 50.31 50.14 50.46 52.28 53.92 54.89\n",
      " 56.58 58.63 59.14 58.99 56.76 53.57 50.31 44.54 43.63 42.78 42.29 41.08\n",
      " 39.07 38.31 40.73 44.93 49.17 50.42 50.64 49.98 47.47 44.66 43.18 43.23\n",
      " 42.68 42.36 43.74 46.16 48.55 49.54 51.27 53.8  57.64 63.92 69.11 71.89\n",
      " 74.19 74.79 75.   75.66 75.67 74.51 71.97 70.7  68.97 67.24 65.37 62.1\n",
      " 58.27 54.98 52.37 48.08 42.65 39.89 38.68 38.06 37.5  35.65 33.76 31.21\n",
      " 33.29 33.93 35.25 36.04 33.74 32.49 35.15 39.73]\n",
      "Для області 2 в період з 2022 по 2023 ряд VHI: [51.29 50.68 50.12 50.23 49.46 48.51 49.01 51.17 52.75 53.45 56.84 56.15\n",
      " 54.88 53.64 53.36 53.57 55.32 55.04 54.05 53.39 52.25 50.56 49.09 46.2\n",
      " 45.31 44.69 45.14 46.27 48.41 58.15 58.62 59.36 59.84 58.81 59.59 61.15\n",
      " 59.52 57.06 53.43 49.67 45.42 43.56 42.1  39.27 39.31 38.38 40.31 43.79\n",
      " 46.09 44.95 45.58 46.8  44.92 47.44 49.34 50.57 51.61 52.14 53.23 55.02\n",
      " 55.6  54.92 59.3  59.87 59.39 58.43 59.63 59.94 60.79 61.13 60.61 59.3\n",
      " 58.44 56.53 54.27 53.8  55.06 54.62 55.11 56.72 59.14 62.44 62.58 60.71\n",
      " 58.12 55.43 53.49 52.26 49.71 47.04 45.48 45.9  47.73 49.29 51.51 50.93\n",
      " 50.47 50.6  52.79 53.98 52.79 49.73 49.58 51.35]\n",
      "Рік, коли Екстримальні посухи торкнулися більше 20% областей по Україні: 2007, 20.0%\n"
     ]
    }
   ],
   "source": [
    "def vhi_range_for_areas(file_path, start_year, end_year, selected_areas):\n",
    "    dataframe = pd.read_csv(file_path)\n",
    "    for area in selected_areas:\n",
    "        area_data = dataframe[(dataframe['Year'] >= start_year) & (dataframe['Year'] <= end_year) & (dataframe['Area'] == area)]\n",
    "        output_string = f'Для області {area} в період з {start_year} по {end_year} ряд VHI: {area_data[\"VHI\"].values}'\n",
    "        print(output_string)\n",
    "\n",
    "start_year = 2022\n",
    "end_year = 2023\n",
    "selected_areas = [4, 2]  \n",
    "vhi_range_for_areas(file_path, start_year, end_year, selected_areas)\n",
    "\n",
    "def extreme_drought_finder(file_path, percentage):\n",
    "    dataframe = pd.read_csv(file_path)\n",
    "    total_areas = len(dataframe['Area'].unique())\n",
    "    for year in dataframe['Year'].unique():\n",
    "        drought_counter = 0\n",
    "        for area in dataframe['Area'].unique():\n",
    "            area_data = dataframe[(dataframe['Year'] == year) & (dataframe['Area'] == area)]\n",
    "            if (area_data['VHI'] < 15).any():\n",
    "                drought_counter += 1\n",
    "        perc_ext = (drought_counter / total_areas) * 100\n",
    "        if perc_ext >= percentage:\n",
    "            print(f'Рік, коли Екстримальні посухи торкнулися більше {percentage}% областей по Україні: {year}, {perc_ext}%')\n",
    "file_path = \"EveryData.csv\"\n",
    "extreme_drought_finder(file_path, 20)"
   ]
  },
  {
   "cell_type": "markdown",
   "metadata": {},
   "source": [
    "o Аналогічно для помірних посух"
   ]
  },
  {
   "cell_type": "code",
   "execution_count": 11,
   "metadata": {},
   "outputs": [
    {
     "name": "stdout",
     "output_type": "stream",
     "text": [
      "Рік, коли Помірні посухи торкнулися більше 20% областей по Україні: 1982, 100.0%\n",
      "Рік, коли Помірні посухи торкнулися більше 20% областей по Україні: 1983, 100.0%\n",
      "Рік, коли Помірні посухи торкнулися більше 20% областей по Україні: 1984, 96.0%\n",
      "Рік, коли Помірні посухи торкнулися більше 20% областей по Україні: 1985, 96.0%\n",
      "Рік, коли Помірні посухи торкнулися більше 20% областей по Україні: 1986, 100.0%\n",
      "Рік, коли Помірні посухи торкнулися більше 20% областей по Україні: 1987, 72.0%\n",
      "Рік, коли Помірні посухи торкнулися більше 20% областей по Україні: 1988, 88.0%\n",
      "Рік, коли Помірні посухи торкнулися більше 20% областей по Україні: 1989, 96.0%\n",
      "Рік, коли Помірні посухи торкнулися більше 20% областей по Україні: 1990, 92.0%\n",
      "Рік, коли Помірні посухи торкнулися більше 20% областей по Україні: 1991, 88.0%\n",
      "Рік, коли Помірні посухи торкнулися більше 20% областей по Україні: 1992, 92.0%\n",
      "Рік, коли Помірні посухи торкнулися більше 20% областей по Україні: 1993, 92.0%\n",
      "Рік, коли Помірні посухи торкнулися більше 20% областей по Україні: 1994, 80.0%\n",
      "Рік, коли Помірні посухи торкнулися більше 20% областей по Україні: 1995, 96.0%\n",
      "Рік, коли Помірні посухи торкнулися більше 20% областей по Україні: 1996, 96.0%\n",
      "Рік, коли Помірні посухи торкнулися більше 20% областей по Україні: 1997, 60.0%\n",
      "Рік, коли Помірні посухи торкнулися більше 20% областей по Україні: 1998, 24.0%\n",
      "Рік, коли Помірні посухи торкнулися більше 20% областей по Україні: 1999, 80.0%\n",
      "Рік, коли Помірні посухи торкнулися більше 20% областей по Україні: 2000, 100.0%\n",
      "Рік, коли Помірні посухи торкнулися більше 20% областей по Україні: 2001, 40.0%\n",
      "Рік, коли Помірні посухи торкнулися більше 20% областей по Україні: 2002, 48.0%\n",
      "Рік, коли Помірні посухи торкнулися більше 20% областей по Україні: 2003, 52.0%\n",
      "Рік, коли Помірні посухи торкнулися більше 20% областей по Україні: 2005, 28.000000000000004%\n",
      "Рік, коли Помірні посухи торкнулися більше 20% областей по Україні: 2006, 48.0%\n",
      "Рік, коли Помірні посухи торкнулися більше 20% областей по Україні: 2007, 60.0%\n",
      "Рік, коли Помірні посухи торкнулися більше 20% областей по Україні: 2008, 60.0%\n",
      "Рік, коли Помірні посухи торкнулися більше 20% областей по Україні: 2009, 56.00000000000001%\n",
      "Рік, коли Помірні посухи торкнулися більше 20% областей по Україні: 2010, 52.0%\n",
      "Рік, коли Помірні посухи торкнулися більше 20% областей по Україні: 2011, 64.0%\n",
      "Рік, коли Помірні посухи торкнулися більше 20% областей по Україні: 2012, 48.0%\n",
      "Рік, коли Помірні посухи торкнулися більше 20% областей по Україні: 2013, 64.0%\n",
      "Рік, коли Помірні посухи торкнулися більше 20% областей по Україні: 2014, 44.0%\n",
      "Рік, коли Помірні посухи торкнулися більше 20% областей по Україні: 2015, 92.0%\n",
      "Рік, коли Помірні посухи торкнулися більше 20% областей по Україні: 2016, 60.0%\n",
      "Рік, коли Помірні посухи торкнулися більше 20% областей по Україні: 2017, 44.0%\n",
      "Рік, коли Помірні посухи торкнулися більше 20% областей по Україні: 2018, 60.0%\n",
      "Рік, коли Помірні посухи торкнулися більше 20% областей по Україні: 2019, 96.0%\n",
      "Рік, коли Помірні посухи торкнулися більше 20% областей по Україні: 2020, 64.0%\n",
      "Рік, коли Помірні посухи торкнулися більше 20% областей по Україні: 2021, 40.0%\n",
      "Рік, коли Помірні посухи торкнулися більше 20% областей по Україні: 2022, 24.0%\n",
      "Рік, коли Помірні посухи торкнулися більше 20% областей по Україні: 2023, 80.0%\n"
     ]
    }
   ],
   "source": [
    "def moderate_drought_finder(file_path, percentage):\n",
    "    dataframe = pd.read_csv(file_path)\n",
    "    total_areas = len(dataframe['Area'].unique())\n",
    "    for year in dataframe['Year'].unique():\n",
    "        moderate_drought_counter = 0\n",
    "        for area in dataframe['Area'].unique():\n",
    "            area_data = dataframe[(dataframe['Year'] == year) & (dataframe['Area'] == area)]\n",
    "            if ((area_data['VHI'] < 35) & (area_data['VHI'] > 15)).any():\n",
    "                moderate_drought_counter += 1\n",
    "        perc_norm = (moderate_drought_counter / total_areas) * 100\n",
    "        if perc_norm > percentage:\n",
    "            print(f'Рік, коли Помірні посухи торкнулися більше {percentage}% областей по Україні: {year}, {perc_norm}%')\n",
    "file_path = \"EveryData.csv\"\n",
    "moderate_drought_finder(file_path, 20)"
   ]
  }
 ],
 "metadata": {
  "kernelspec": {
   "display_name": "Python 3",
   "language": "python",
   "name": "python3"
  },
  "language_info": {
   "codemirror_mode": {
    "name": "ipython",
    "version": 3
   },
   "file_extension": ".py",
   "mimetype": "text/x-python",
   "name": "python",
   "nbconvert_exporter": "python",
   "pygments_lexer": "ipython3",
   "version": "3.11.3"
  }
 },
 "nbformat": 4,
 "nbformat_minor": 2
}
